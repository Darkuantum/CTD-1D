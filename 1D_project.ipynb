{
 "cells": [
  {
   "cell_type": "markdown",
   "metadata": {
    "colab_type": "text",
    "id": "view-in-github"
   },
   "source": [
    "<a href=\"https://colab.research.google.com/github/Darkuantum/CTD-1D/blob/main/1D_project.ipynb\" target=\"_parent\"><img src=\"https://colab.research.google.com/assets/colab-badge.svg\" alt=\"Open In Colab\"/></a>"
   ]
  },
  {
   "cell_type": "markdown",
   "metadata": {
    "id": "WduaWYioKEx4"
   },
   "source": [
    "### End of Game Functions:"
   ]
  },
  {
   "cell_type": "code",
   "execution_count": null,
   "metadata": {
    "id": "dv8ovaiNyWqI"
   },
   "outputs": [],
   "source": [
    "def game_lose():\n",
    "\n",
    "      return print('You gave in to all your addictions.')\n",
    "\n",
    "def game_win():\n",
    "\n",
    "      return print(\"You have successfully beaten your addictions! You're free!\")\n"
   ]
  },
  {
   "cell_type": "markdown",
   "metadata": {
    "id": "T2B4dRuRKNKV"
   },
   "source": [
    "### Global Variables:\n"
   ]
  },
  {
   "cell_type": "code",
   "execution_count": null,
   "metadata": {
    "id": "-rEa5-64BOMn"
   },
   "outputs": [],
   "source": [
    "import time\n",
    "\n",
    "pp_questions = {'Q1':'AV is good for you'}\n",
    "smoking_questions = {'Q1':'vaping is good for you'}\n",
    "drug_questions = {'Q1':'drugs are good for you'}\n",
    "alcohol_questions = {'Q1':'alcohol is haram'}\n",
    "gambling_questions = {'Q1':'how much do you want to gamble?'}\n",
    "\n",
    "pp_answers = {'Q1':'yes'}\n",
    "smoke_answers = {'Q1':'yes'}\n",
    "drug_answers = {'Q1':'yes'}\n",
    "alcohol_answers = {'Q1':'yes'}\n",
    "gambling_answers = {'Q1':'yes'}\n",
    "\n",
    "monster_remaining = {'pp_monster': True, 'smoke_monster': True, 'alcohol_monster': True, 'gambling_monster': True, 'drug_monster': True} #True = alive, False = defeated\n",
    "debuff = {'sight' : True, 'time': True, None: None}\n",
    "monster_debuff = {'pp_monster': 'sight', 'smoke_monster': 'time', 'alcohol_monster': 'sight', 'gambling_monster': None, 'drug_monster': 'time'}\n",
    "\n",
    "encryption_dict = {'a': '@', 'b': '6', 'c': '(', 'e': '€', 'f': '£', 'g': '&', 'i': '!', 'j': '?', 'k': '<', 'l': '1', 'o': '0', 'q': '9', 's': '$', 't': '7', 'v': '^', 'x': '*', 'y': '¥', 'z': '2'}\n",
    "\n",
    "lives = 3"
   ]
  },
  {
   "cell_type": "code",
   "execution_count": null,
   "metadata": {},
   "outputs": [],
   "source": [
    "# Optimized global variables\n",
    "\n",
    "\"\"\"\n",
    "# How to access each answers:\n",
    "\n",
    "qna[<name of monster: string>][<qns_dict or ans_dict: string>][<question number:string>]\n",
    "\n",
    "E.g.\n",
    "qna[\"pp_monster\"][\"qns_dict\"][\"Q1\"] will return \"AV is good for you\n",
    "\n",
    "\"\"\"\n",
    "\n",
    "qna = {\n",
    "    \"pp_monster\": {\n",
    "        \"qns_dict\": {\"Q1\": \"AV is good for you\"},\n",
    "        \"ans_dict\": {\"Q1\": \"yes\"}\n",
    "    },\n",
    "    \"smoke_monster\": {\n",
    "        \"qns_dict\": {\"Q1\": \"Is vaping is good for you?\"},\n",
    "        \"ans_dict\": {\"Q1\": \"no\"}\n",
    "    },\n",
    "    \"drug_monster\": {\n",
    "        \"qns_dict\": {\"Q1\": \"Drugs are good for you\"},\n",
    "        \"ans_dict\": {\"Q1\": \"yes\"}\n",
    "    },\n",
    "    \"gambling_monster\": {\n",
    "        \"qns_dict\": {\"Q1\": \"How much do you want to gamble?\"},\n",
    "        \"ans_dict\": {\"Q1\": \"yes\"}\n",
    "    },\n",
    "    \"alcohol_monster\": {\n",
    "        \"qns_dict\": {\"Q1\": \"Alcohol is haram\"},\n",
    "        \"ans_dict\": {\"Q1\": \"yes\"}\n",
    "    },\n",
    "}\n"
   ]
  },
  {
   "cell_type": "markdown",
   "metadata": {
    "id": "9gicQc5SKV9W"
   },
   "source": [
    "### Battle Win/Lose Functions:"
   ]
  },
  {
   "cell_type": "code",
   "execution_count": null,
   "metadata": {
    "colab": {
     "base_uri": "https://localhost:8080/"
    },
    "id": "n8OGxjDVFVS6",
    "outputId": "350c652c-d868-4557-c5ca-8dc4cf088ad8"
   },
   "outputs": [],
   "source": [
    "def battle_lose(n): #Update the dictionary that the boss is dead\n",
    "  lives -= 1\n",
    "  if lives > 0:\n",
    "    print('''You've lost the battle. Lives reamining: ''' + lives)\n",
    "  else:\n",
    "    return game_lose()"
   ]
  },
  {
   "cell_type": "code",
   "execution_count": null,
   "metadata": {
    "colab": {
     "base_uri": "https://localhost:8080/"
    },
    "id": "pk33TjHKFa_n",
    "outputId": "65050cce-f3e8-4ad7-f8c6-9072d807dd37"
   },
   "outputs": [],
   "source": [
    "#maincode a boss dies, check if its a win\n",
    "\n",
    "def battle_win(boss_defeated): #Update the dictionary that the boss is defeated\n",
    "  boss.update({str(boss_defeated): False})\n",
    "  if boss.get('pp_monster') == False and boss.get('smoke_monster') == False and boss.get('drug_monster') == False and boss.get('alcohol_monster') == False and boss.get('gambling_monster') == False:\n",
    "    return print('Game win') #go to win display\n",
    "  else:\n",
    "    return(boss_defeated + ' has been slain')\n",
    "\n",
    "\n",
    "print(battle_win(str('pp_monster')))"
   ]
  },
  {
   "cell_type": "code",
   "execution_count": null,
   "metadata": {
    "id": "fPswWz6yR5QR"
   },
   "outputs": [],
   "source": [
    "# gy code, test\n",
    "\n",
    "def battle_win(monster):\n",
    "  monster_remaining[monster] = False\n",
    "  debuff_to_be_removed = monster_debuff[monster]\n",
    "  debuff[debuff_to_be_removed] = False\n",
    "  if sum(list(monster_remaining.values())) == 0:\n",
    "    return game_win()\n",
    "  else: print(monster + ' has been slain.')"
   ]
  },
  {
   "cell_type": "markdown",
   "metadata": {
    "id": "ObfOdy-tWnNK"
   },
   "source": [
    "### Game Win/Lose Functions\n"
   ]
  },
  {
   "cell_type": "code",
   "execution_count": null,
   "metadata": {
    "id": "vEcNjUBlWqwj"
   },
   "outputs": [],
   "source": [
    "def game_win():"
   ]
  },
  {
   "cell_type": "code",
   "execution_count": null,
   "metadata": {
    "id": "5aql-uGsXdfT"
   },
   "outputs": [],
   "source": [
    "def game_lose():"
   ]
  },
  {
   "cell_type": "markdown",
   "metadata": {
    "id": "Bm0-KAI4375G"
   },
   "source": [
    "### Debuff Functions:\n",
    "- to change the questions based on the set debuff(s):"
   ]
  },
  {
   "cell_type": "code",
   "execution_count": null,
   "metadata": {
    "colab": {
     "base_uri": "https://localhost:8080/",
     "height": 52
    },
    "id": "EOmUn-T33tnl",
    "outputId": "579bcb44-4e3d-45f3-9ab2-9f2d935025ce"
   },
   "outputs": [],
   "source": [
    "def sight_debuff(question):\n",
    "  '''this function implements a debuff in sight for the player by encrypting the question'''\n",
    "  encrypted_question = ''\n",
    "  for letter in question.lower():\n",
    "    encrypted_question += encryption_dict.get(letter, letter)\n",
    "  return input(encrypted_question)\n",
    "\n",
    "# test case\n",
    "sight_debuff('testing')"
   ]
  },
  {
   "cell_type": "code",
   "execution_count": null,
   "metadata": {
    "id": "ATC-YGv634Fa"
   },
   "outputs": [],
   "source": [
    "def time_debuff(question):\n",
    "    pass"
   ]
  },
  {
   "cell_type": "code",
   "execution_count": null,
   "metadata": {
    "id": "y-HQ-FqUHfxN"
   },
   "outputs": [],
   "source": [
    "def time_sight_debuff(queestion):\n",
    "    pass"
   ]
  },
  {
   "cell_type": "markdown",
   "metadata": {
    "id": "HMR4zpwe4HFA"
   },
   "source": [
    "### Monster Functions:\n",
    "> **Algorithm**\n",
    ">  1. create monster's hp\n",
    ">  2. create player's hp  \n",
    ">  3. ask player a question\n",
    ">  4. check player's input with answer\n",
    ">  5. if answer is wrong, deduct 25hp from player\n",
    ">  6. if answer is right, deduct 20hp from monster\n",
    ">  7. if player's hp = 0, return battle_lose('monster name')\n",
    ">  8. if monster's hp = 0, return battle_win('monster name')\n",
    "\n",
    "\n",
    "\n"
   ]
  },
  {
   "cell_type": "code",
   "execution_count": null,
   "metadata": {},
   "outputs": [],
   "source": [
    "# Optimized actions to generalize to all monsters, more scalable so we can add more monsters and prompts if needed\n",
    "\n",
    "def monster_actions(monster):\n",
    "    monster_hp = 100 # set hp of monster as 100\n",
    "    player_hp = 100 # set hp of player as 100\n",
    "\n",
    "    monster_qns = qna[monster][\"qns_dict\"]\n",
    "    monster_ans = qna[monster][\"ans_dict\"]\n",
    "\n",
    "    for i in range(1, len(monster_qns) + 1):\n",
    "        question = monster_qns['Q' + str(i)]\n",
    "        if debuff['sight'] and not debuff['time']:\n",
    "            player_ans = sight_debuff(question)\n",
    "        elif not debuff['sight'] and debuff['time']:\n",
    "            player_ans = time_debuff(question)\n",
    "        elif debuff['sight'] and debuff['time']:\n",
    "            player_ans = time_sight_debuff(question)\n",
    "        else:\n",
    "            player_ans = input(question)\n",
    "\n",
    "        if player_ans.lower() == monster_ans['Q' + str(i)]:\n",
    "            monster_hp -= 20\n",
    "        if monster_hp == 0:\n",
    "            return battle_win('gambling_monster')\n",
    "        else:\n",
    "            player_hp -= 25\n",
    "        if player_hp == 0:\n",
    "            return battle_lose('gambling_monster')"
   ]
  },
  {
   "cell_type": "markdown",
   "metadata": {},
   "source": [
    "#### Gambling Monster Function:"
   ]
  },
  {
   "cell_type": "code",
   "execution_count": null,
   "metadata": {
    "id": "5XPg7LCPggOw"
   },
   "outputs": [],
   "source": [
    "def gambling_monster():\n",
    "  monster_hp = 100 # set hp of monster as 100\n",
    "  player_hp = 100 # set hp of player as 100\n",
    "\n",
    "  for i in range(1, len(gambling_questions) + 1):\n",
    "    question = gambling_questions['Q' + str(i)]\n",
    "    if debuff['sight'] and not debuff['time']:\n",
    "      player_ans = sight_debuff(question)\n",
    "    elif not debuff['sight'] and debuff['time']:\n",
    "      player_ans = time_debuff(question)\n",
    "    elif debuff['sight'] and debuff['time']:\n",
    "      player_ans = time_sight_debuff(question)\n",
    "    else:\n",
    "      player_ans = input(question)\n",
    "    if player_ans.lower() == gambling_answers['Q' + str(i)]:\n",
    "      monster_hp -= 20\n",
    "      if monster_hp == 0:\n",
    "        return battle_win('gambling_monster')\n",
    "    else:\n",
    "      player_hp -= 25\n",
    "      if player_hp == 0:\n",
    "        return battle_lose('gambling_monster')\n",
    "gambling_monster()"
   ]
  },
  {
   "cell_type": "markdown",
   "metadata": {},
   "source": [
    "#### Smoking Monster Battle:"
   ]
  },
  {
   "cell_type": "code",
   "execution_count": null,
   "metadata": {},
   "outputs": [],
   "source": [
    "def smoking_monster():\n",
    "    ## declare health (hp) variables \n",
    "    monster_hp = 100 # initial monster hp\n",
    "    player_hp = 100 # initial player hp\n",
    "\n",
    "    ## question and answer between player and monster \n",
    "    for i in range(len(smoking_questions)):\n",
    "        question_no = 'Q' + str(i)\n",
    "        question = smoking_questions[question_no]\n",
    "        # add checks for debuffs - im not exactly sure how the time debuff function works, but if it doesn't rely on the sight debuff, this method of checking may be more efficient\n",
    "        if debuff['sight']:\n",
    "            if debuff['time']:\n",
    "                player_ans = time_sight_debuff(question)\n",
    "            else:\n",
    "                player_ans = sight_debuff(question)\n",
    "        elif debuff['time']:\n",
    "            player_ans = time_debuff(question)\n",
    "        else:\n",
    "            player_ans = input(question)\n",
    "            \n",
    "        ## check the answer for each question and deduct hp accordingly\n",
    "        if player_ans.lower == smoke_answers[question_no]:\n",
    "            monster_hp -= 20\n",
    "            if monster_hp == 0:\n",
    "                return battle_win('smoking_monster')\n",
    "        else:\n",
    "            player_hp -= 25\n",
    "            if player_hp == 0:\n",
    "                return battle_win('smoking_monster')"
   ]
  },
  {
   "cell_type": "markdown",
   "metadata": {},
   "source": [
    "#### Alcohol Monster Battle:"
   ]
  },
  {
   "cell_type": "code",
   "execution_count": null,
   "metadata": {},
   "outputs": [],
   "source": [
    "def alcohol_monster():\n",
    "    ## declare health (hp) variables \n",
    "    monster_hp = 100 # initial monster hp\n",
    "    player_hp = 100 # initial player hp\n",
    "\n",
    "    ## question and answer between player and monster \n",
    "    for i in range(len(alcohol_questions)):\n",
    "        question_no = 'Q' + str(i)\n",
    "        question = alcohol_questions[question_no]\n",
    "        # add checks for debuffs - im not exactly sure how the time debuff function works, but if it doesn't rely on the sight debuff, this method of checking may be more efficient\n",
    "        if debuff['sight']:\n",
    "            if debuff['time']:\n",
    "                player_ans = time_sight_debuff(question)\n",
    "            else:\n",
    "                player_ans = sight_debuff(question)\n",
    "        elif debuff['time']:\n",
    "            player_ans = time_debuff(question)\n",
    "        else:\n",
    "            player_ans = input(question)\n",
    "            \n",
    "        ## check the answer for each question and deduct hp accordingly\n",
    "        if player_ans.lower == alcohol_answers[question_no]:\n",
    "            monster_hp -= 20\n",
    "            if monster_hp == 0:\n",
    "                return battle_win('alcohol_monster')\n",
    "        else:\n",
    "            player_hp -= 25\n",
    "            if player_hp == 0:\n",
    "                return battle_win('alcohol_monster')"
   ]
  },
  {
   "cell_type": "markdown",
   "metadata": {},
   "source": [
    "#### Drug Monster Battle:"
   ]
  },
  {
   "cell_type": "code",
   "execution_count": null,
   "metadata": {},
   "outputs": [],
   "source": [
    "def drug_monster():\n",
    "    ## declare health (hp) variables \n",
    "    monster_hp = 100 # initial monster hp\n",
    "    player_hp = 100 # initial player hp\n",
    "\n",
    "    ## question and answer between player and monster \n",
    "    for i in range(len(drug_questions)):\n",
    "        question_no = 'Q' + str(i)\n",
    "        question = drug_questions[question_no]\n",
    "        # add checks for debuffs - im not exactly sure how the time debuff function works, but if it doesn't rely on the sight debuff, this method of checking may be more efficient\n",
    "        if debuff['sight']:\n",
    "            if debuff['time']:\n",
    "                player_ans = time_sight_debuff(question)\n",
    "            else:\n",
    "                player_ans = sight_debuff(question)\n",
    "        elif debuff['time']:\n",
    "            player_ans = time_debuff(question)\n",
    "        else:\n",
    "            player_ans = input(question)\n",
    "            \n",
    "        ## check the answer for each question and deduct hp accordingly\n",
    "        if player_ans.lower == drug_answers[question_no]:\n",
    "            monster_hp -= 20\n",
    "            if monster_hp == 0:\n",
    "                return battle_win('drug_monster')\n",
    "        else:\n",
    "            player_hp -= 25\n",
    "            if player_hp == 0:\n",
    "                return battle_win('drug_monster')"
   ]
  },
  {
   "cell_type": "markdown",
   "metadata": {},
   "source": [
    "#### PP? Monster Battle:"
   ]
  },
  {
   "cell_type": "code",
   "execution_count": null,
   "metadata": {},
   "outputs": [],
   "source": [
    "def pp_monster():\n",
    "    ## declare health (hp) variables \n",
    "    monster_hp = 100 # initial monster hp\n",
    "    player_hp = 100 # initial player hp\n",
    "\n",
    "    ## question and answer between player and monster \n",
    "    for i in range(len(pp_questions)):\n",
    "        question_no = 'Q' + str(i)\n",
    "        question = pp_questions[question_no]\n",
    "        # add checks for debuffs - im not exactly sure how the time debuff function works, but if it doesn't rely on the sight debuff, this method of checking may be more efficient\n",
    "        if debuff['sight']:\n",
    "            if debuff['time']:\n",
    "                player_ans = time_sight_debuff(question)\n",
    "            else:\n",
    "                player_ans = sight_debuff(question)\n",
    "        elif debuff['time']:\n",
    "            player_ans = time_debuff(question)\n",
    "        else:\n",
    "            player_ans = input(question)\n",
    "            \n",
    "        ## check the answer for each question and deduct hp accordingly\n",
    "        if player_ans.lower == pp_answers[question_no]:\n",
    "            monster_hp -= 20\n",
    "            if monster_hp == 0:\n",
    "                return battle_win('pp_monster')\n",
    "        else:\n",
    "            player_hp -= 25\n",
    "            if player_hp == 0:\n",
    "                return battle_win('pp_monster')\n"
   ]
  }
 ],
 "metadata": {
  "colab": {
   "include_colab_link": true,
   "provenance": []
  },
  "kernelspec": {
   "display_name": "Python 3",
   "name": "python3"
  },
  "language_info": {
   "codemirror_mode": {
    "name": "ipython",
    "version": 3
   },
   "file_extension": ".py",
   "mimetype": "text/x-python",
   "name": "python",
   "nbconvert_exporter": "python",
   "pygments_lexer": "ipython3",
   "version": "3.10.5"
  }
 },
 "nbformat": 4,
 "nbformat_minor": 0
}
