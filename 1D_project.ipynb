{
  "nbformat": 4,
  "nbformat_minor": 0,
  "metadata": {
    "colab": {
      "provenance": [],
      "include_colab_link": true
    },
    "kernelspec": {
      "name": "python3",
      "display_name": "Python 3"
    },
    "language_info": {
      "name": "python"
    }
  },
  "cells": [
    {
      "cell_type": "markdown",
      "metadata": {
        "id": "view-in-github",
        "colab_type": "text"
      },
      "source": [
        "<a href=\"https://colab.research.google.com/github/Darkuantum/CTD-1D/blob/main/1D_project.ipynb\" target=\"_parent\"><img src=\"https://colab.research.google.com/assets/colab-badge.svg\" alt=\"Open In Colab\"/></a>"
      ]
    },
    {
      "cell_type": "markdown",
      "source": [
        "#End Game Functions:\n",
        "\n"
      ],
      "metadata": {
        "id": "WduaWYioKEx4"
      }
    },
    {
      "cell_type": "code",
      "source": [
        "def game_lose():\n",
        "\n",
        "      return print('You gave in to all your addictions.')\n",
        "\n",
        "def game_win():\n",
        "\n",
        "      return print(\"You have successfully beaten your addictions! You're free!\")\n"
      ],
      "metadata": {
        "id": "dv8ovaiNyWqI"
      },
      "execution_count": null,
      "outputs": []
    },
    {
      "cell_type": "markdown",
      "source": [
        "#Global Variables:\n"
      ],
      "metadata": {
        "id": "T2B4dRuRKNKV"
      }
    },
    {
      "cell_type": "code",
      "execution_count": null,
      "metadata": {
        "id": "-rEa5-64BOMn"
      },
      "outputs": [],
      "source": [
        "import time\n",
        "import turtle\n",
        "\n",
        "\n",
        "pp_questions = {'Q1':'AV is good for you'}\n",
        "smoke_questions = {'Q1':'vaping is good for you'}\n",
        "drug_questions = {'Q1':'drugs are good for you'}\n",
        "alcohol_questions = {'Q1':'alcohol is haram'}\n",
        "gambling_questions = {'Q1':'how much do you want to gamble?'}\n",
        "\n",
        "pp_answers = {'Q1':'yes'}\n",
        "smoke_answers = {'Q1':'yes'}\n",
        "drug_answers = {'Q1':'yes'}\n",
        "alcohol_answers = {'Q1':'yes'}\n",
        "gambling_answers = {'Q1':'yes'}\n",
        "\n",
        "monster_remaining = {'pp_monster': True, 'smoke_monster': True, 'alcohol_monster': True, 'gambling_monster': True, 'drug_monster': True} #True = alive, False = defeated\n",
        "debuff = {'sight' : True, 'time': True, None: None}\n",
        "monster_debuff = {'pp_monster': 'sight', 'smoke_monster': 'time', 'alcohol_monster': 'sight', 'gambling_monster': None, 'drug_monster': 'time'}\n",
        "\n",
        "encryption_dict = {'a': '@', 'b': '6', 'c': '(', 'e': '€', 'f': '£', 'g': '&', 'i': '!', 'j': '?', 'k': '<', 'l': '1', 'o': '0', 'q': '9', 's': '$', 't': '7', 'v': '^', 'x': '*', 'y': '¥', 'z': '2'}\n",
        "\n",
        "lives = 3"
      ]
    },
    {
      "cell_type": "markdown",
      "source": [
        "#Battle Win/Lose Functions:"
      ],
      "metadata": {
        "id": "9gicQc5SKV9W"
      }
    },
    {
      "cell_type": "code",
      "source": [
        "def battle_lose(n): #Update the dictionary that the boss is dead\n",
        "  lives -= 1\n",
        "  if lives > 0:\n",
        "    print('''You've lost the battle. Lives reamining: ''' + lives)\n",
        "  else:\n",
        "    return game_lose()"
      ],
      "metadata": {
        "colab": {
          "base_uri": "https://localhost:8080/"
        },
        "id": "n8OGxjDVFVS6",
        "outputId": "350c652c-d868-4557-c5ca-8dc4cf088ad8"
      },
      "execution_count": null,
      "outputs": [
        {
          "output_type": "stream",
          "name": "stdout",
          "text": [
            "2\n"
          ]
        }
      ]
    },
    {
      "cell_type": "code",
      "source": [
        "#maincode a boss dies, check if its a win\n",
        "\n",
        "def battle_win(boss_defeated): #Update the dictionary that the boss is defeated\n",
        "  boss.update({str(boss_defeated): False})\n",
        "  if boss.get('pp_monster') == False and boss.get('smoke_monster') == False and boss.get('drug_monster') == False and boss.get('alcohol_monster') == False and boss.get('gambling_monster') == False:\n",
        "    return print('Game win') #go to win display\n",
        "  else:\n",
        "    return(boss_defeated + ' has been slain')\n",
        "\n",
        "\n",
        "print(battle_win(str('pp_monster')))"
      ],
      "metadata": {
        "colab": {
          "base_uri": "https://localhost:8080/"
        },
        "id": "pk33TjHKFa_n",
        "outputId": "65050cce-f3e8-4ad7-f8c6-9072d807dd37"
      },
      "execution_count": null,
      "outputs": [
        {
          "output_type": "stream",
          "name": "stdout",
          "text": [
            "pp_monster has been slain\n"
          ]
        }
      ]
    },
    {
      "cell_type": "code",
      "source": [
        "# gy code, test\n",
        "\n",
        "def battle_win(monster):\n",
        "  monster_remaining[monster] = False\n",
        "  debuff_to_be_removed = monster_debuff[monster]\n",
        "  debuff[debuff_to_be_removed] = False\n",
        "  if sum(list(monster_remaining.values())) == 0:\n",
        "    return game_win()\n",
        "  else: print(monster + ' has been slain.')"
      ],
      "metadata": {
        "id": "fPswWz6yR5QR"
      },
      "execution_count": null,
      "outputs": []
    },
    {
      "cell_type": "markdown",
      "source": [
        "# Game Win/Lose Functions\n"
      ],
      "metadata": {
        "id": "ObfOdy-tWnNK"
      }
    },
    {
      "cell_type": "code",
      "source": [
        "def game_win():"
      ],
      "metadata": {
        "id": "vEcNjUBlWqwj"
      },
      "execution_count": null,
      "outputs": []
    },
    {
      "cell_type": "code",
      "source": [
        "def game_lose():"
      ],
      "metadata": {
        "id": "5aql-uGsXdfT"
      },
      "execution_count": null,
      "outputs": []
    },
    {
      "cell_type": "markdown",
      "source": [
        "#Debuff Functions:\n",
        "- to change the questions based on the set debuff(s):"
      ],
      "metadata": {
        "id": "Bm0-KAI4375G"
      }
    },
    {
      "cell_type": "code",
      "source": [
        "def sight_debuff(question):\n",
        "  encrypted_question = ''\n",
        "  for letter in question.lower():\n",
        "    encrypted_question += encryption_dict.get(letter, letter)\n",
        "  return input(encrypted_question)\n",
        "\n",
        "sight_debuff('jisdhjkhjs')\n"
      ],
      "metadata": {
        "id": "EOmUn-T33tnl",
        "colab": {
          "base_uri": "https://localhost:8080/",
          "height": 52
        },
        "outputId": "579bcb44-4e3d-45f3-9ab2-9f2d935025ce"
      },
      "execution_count": null,
      "outputs": [
        {
          "name": "stdout",
          "output_type": "stream",
          "text": [
            "?!$dh?<h?$yes\n"
          ]
        },
        {
          "output_type": "execute_result",
          "data": {
            "text/plain": [
              "'yes'"
            ],
            "application/vnd.google.colaboratory.intrinsic+json": {
              "type": "string"
            }
          },
          "metadata": {},
          "execution_count": 5
        }
      ]
    },
    {
      "cell_type": "code",
      "source": [
        "def time_debuff(question):"
      ],
      "metadata": {
        "id": "ATC-YGv634Fa"
      },
      "execution_count": null,
      "outputs": []
    },
    {
      "cell_type": "code",
      "source": [
        "def time_sight_debuff(queestion):"
      ],
      "metadata": {
        "id": "y-HQ-FqUHfxN"
      },
      "execution_count": null,
      "outputs": []
    },
    {
      "cell_type": "markdown",
      "source": [
        "#Monster Functions:\n",
        "\n",
        ">\n",
        "  1. create monster's hp\n",
        "  2. create player's hp  \n",
        "  3. ask player a question\n",
        "  4. check player's input with answer\n",
        "  5. if answer is wrong, deduct 25hp from player\n",
        "  6. if answer is right, deduct 20hp from monster\n",
        "  7. if player's hp = 0, return battle_lose('monster name')\n",
        "  8. if monster's hp = 0, return battle_win('monster name')\n",
        "\n",
        "\n"
      ],
      "metadata": {
        "id": "HMR4zpwe4HFA"
      }
    },
    {
      "cell_type": "code",
      "source": [
        "def pp_monster():"
      ],
      "metadata": {
        "id": "KiCI8zkGcBNv"
      },
      "execution_count": null,
      "outputs": []
    },
    {
      "cell_type": "code",
      "source": [
        "def smoke_monster():"
      ],
      "metadata": {
        "id": "vuzX6Bw40gj4"
      },
      "execution_count": null,
      "outputs": []
    },
    {
      "cell_type": "code",
      "source": [
        "def drug_monster():"
      ],
      "metadata": {
        "id": "m7QzoF6w0gmq"
      },
      "execution_count": null,
      "outputs": []
    },
    {
      "cell_type": "code",
      "source": [
        "def alcohol_monster():"
      ],
      "metadata": {
        "id": "c3uQ9gtE0gpX"
      },
      "execution_count": null,
      "outputs": []
    },
    {
      "cell_type": "code",
      "source": [
        "def gambling_monster():\n",
        "  monster_hp = 100 # set hp of monster as 100\n",
        "  player_hp = 100 # set hp of player as 100\n",
        "\n",
        "  if debuff['sight'] and not debuff['time']:\n",
        "    for i in range(1, len(gambling_questions) + 1):\n",
        "      question = gambling_questions['Q' + str(i)]\n",
        "      player_ans = sight_debuff(question)\n",
        "      if player_ans.lower() == gambling_answers['Q' + str(i)]:\n",
        "        monster_hp -= 20\n",
        "        if monster_hp == 0:\n",
        "          return battle_win('gambling_monster')\n",
        "      else:\n",
        "        player_hp -= 25\n",
        "        if player_hp == 0:\n",
        "          return battle_lose('gambling_monster')\n",
        "\n",
        "  elif not debuff['sight'] and debuff['time']:\n",
        "    for i in range(1, len(gambling_questions) + 1):\n",
        "      question = gambling_questions['Q' + str(i)]\n",
        "      player_ans = time_debuff(question)\n",
        "      if player_ans.lower() == gambling_answers['Q' + str(i)]:\n",
        "        monster_hp -= 20\n",
        "        if monster_hp == 0:\n",
        "          return battle_win('gambling_monster')\n",
        "      else:\n",
        "        player_hp -= 25\n",
        "        if player_hp == 0:\n",
        "          return battle_lose('gambling_monster')\n",
        "\n",
        "    elif debuff['sight'] and debuff['time']:\n",
        "    for i in range(1, len(gambling_questions) + 1):\n",
        "      question = gambling_questions['Q' + str(i)]\n",
        "      player_ans = time_sight_debuff(question)\n",
        "      if player_ans.lower() == gambling_answers['Q' + str(i)]:\n",
        "        monster_hp -= 20\n",
        "        if monster_hp == 0:\n",
        "          return battle_win('gambling_monster')\n",
        "      else:\n",
        "        player_hp -= 25\n",
        "        if player_hp == 0:\n",
        "          return battle_lose('gambling_monster')\n",
        "\n",
        "  else:\n",
        "    for i in range(1, len(gambling_questions) + 1):\n",
        "      question = gambling_questions['Q' + str(i)]\n",
        "      player_ans = input(question)\n",
        "      if player_ans.lower() == gambling_answers['Q' + str(i)]:\n",
        "        monster_hp -= 20\n",
        "        if monster_hp == 0:\n",
        "          return battle_win('gambling_monster')\n",
        "      else:\n",
        "        player_hp -= 25\n",
        "        if player_hp == 0:\n",
        "          return battle_lose('gambling_monster')"
      ],
      "metadata": {
        "id": "uNWVOg8P0gzj"
      },
      "execution_count": null,
      "outputs": []
    },
    {
      "cell_type": "code",
      "source": [
        "def gambling_monster():\n",
        "  monster_hp = 100 # set hp of monster as 100\n",
        "  player_hp = 100 # set hp of player as 100\n",
        "\n",
        "  for i in range(1, len(gambling_questions) + 1):\n",
        "    question = gambling_questions['Q' + str(i)]\n",
        "    if debuff['sight'] and not debuff['time']:\n",
        "      player_ans = sight_debuff(question)\n",
        "    elif not debuff['sight'] and debuff['time']:\n",
        "      player_ans = time_debuff(question)\n",
        "    elif debuff['sight'] and debuff['time']:\n",
        "      player_ans = time_sight_debuff(question)\n",
        "    else:\n",
        "      player_ans = input(question)\n",
        "    if player_ans.lower() == gambling_answers['Q' + str(i)]:\n",
        "      monster_hp -= 20\n",
        "      if monster_hp == 0:\n",
        "        return battle_win('gambling_monster')\n",
        "    else:\n",
        "      player_hp -= 25\n",
        "      if player_hp == 0:\n",
        "        return battle_lose('gambling_monster')"
      ],
      "metadata": {
        "id": "5XPg7LCPggOw"
      },
      "execution_count": null,
      "outputs": []
    },
    {
      "cell_type": "markdown",
      "source": [
        "# Main Code:\n"
      ],
      "metadata": {
        "id": "NrnCiUOSJs9i"
      }
    },
    {
      "cell_type": "code",
      "source": [
        "!pip3 install ColabTurtle"
      ],
      "metadata": {
        "colab": {
          "base_uri": "https://localhost:8080/"
        },
        "id": "BrGPwMdULMat",
        "outputId": "3e23f832-420b-4095-b005-c8683cacddf1"
      },
      "execution_count": null,
      "outputs": [
        {
          "output_type": "stream",
          "name": "stdout",
          "text": [
            "Requirement already satisfied: ColabTurtle in /usr/local/lib/python3.10/dist-packages (2.1.0)\n"
          ]
        }
      ]
    },
    {
      "cell_type": "code",
      "source": [
        "from ColabTurtle.Turtle import *"
      ],
      "metadata": {
        "id": "EToeL9pHMkRR"
      },
      "execution_count": null,
      "outputs": []
    },
    {
      "cell_type": "code",
      "source": [
        "initializeTurtle()"
      ],
      "metadata": {
        "colab": {
          "base_uri": "https://localhost:8080/",
          "height": 541
        },
        "id": "EqffiscmMyqk",
        "outputId": "04c9793b-11f0-4efc-ec3b-7e4e455dba9a"
      },
      "execution_count": null,
      "outputs": [
        {
          "output_type": "display_data",
          "data": {
            "text/plain": [
              "<IPython.core.display.HTML object>"
            ],
            "text/html": [
              "\n",
              "      <svg width=\"800\" height=\"500\">\n",
              "        <rect width=\"100%\" height=\"100%\" fill=\"black\"/>\n",
              "        \n",
              "        <g visibility=visible transform=\"rotate(360,400,250) translate(382, 232)\">\n",
              "<path style=\" stroke:none;fill-rule:evenodd;fill:white;fill-opacity:1;\" d=\"M 18.214844 0.632812 C 16.109375 1.800781 15.011719 4.074219 15.074219 7.132812 L 15.085938 7.652344 L 14.785156 7.496094 C 13.476562 6.824219 11.957031 6.671875 10.40625 7.066406 C 8.46875 7.550781 6.515625 9.15625 4.394531 11.992188 C 3.0625 13.777344 2.679688 14.636719 3.042969 15.027344 L 3.15625 15.152344 L 3.519531 15.152344 C 4.238281 15.152344 4.828125 14.886719 8.1875 13.039062 C 9.386719 12.378906 10.371094 11.839844 10.378906 11.839844 C 10.386719 11.839844 10.355469 11.929688 10.304688 12.035156 C 9.832031 13.09375 9.257812 14.820312 8.96875 16.078125 C 7.914062 20.652344 8.617188 24.53125 11.070312 27.660156 C 11.351562 28.015625 11.363281 27.914062 10.972656 28.382812 C 8.925781 30.84375 7.945312 33.28125 8.238281 35.1875 C 8.289062 35.527344 8.28125 35.523438 8.917969 35.523438 C 10.941406 35.523438 13.074219 34.207031 15.136719 31.6875 C 15.359375 31.417969 15.328125 31.425781 15.5625 31.574219 C 16.292969 32.042969 18.023438 32.964844 18.175781 32.964844 C 18.335938 32.964844 19.941406 32.210938 20.828125 31.71875 C 20.996094 31.625 21.136719 31.554688 21.136719 31.558594 C 21.203125 31.664062 21.898438 32.414062 22.222656 32.730469 C 23.835938 34.300781 25.5625 35.132812 27.582031 35.300781 C 27.90625 35.328125 27.9375 35.308594 28.007812 34.984375 C 28.382812 33.242188 27.625 30.925781 25.863281 28.425781 L 25.542969 27.96875 L 25.699219 27.785156 C 28.945312 23.960938 29.132812 18.699219 26.257812 11.96875 L 26.207031 11.84375 L 27.945312 12.703125 C 31.53125 14.476562 32.316406 14.800781 33.03125 14.800781 C 33.976562 14.800781 33.78125 13.9375 32.472656 12.292969 C 28.519531 7.355469 25.394531 5.925781 21.921875 7.472656 L 21.558594 7.636719 L 21.578125 7.542969 C 21.699219 6.992188 21.761719 5.742188 21.699219 5.164062 C 21.496094 3.296875 20.664062 1.964844 19.003906 0.855469 C 18.480469 0.503906 18.457031 0.5 18.214844 0.632812\"/>\n",
              "</g>\n",
              "      </svg>\n",
              "    "
            ]
          },
          "metadata": {}
        }
      ]
    },
    {
      "cell_type": "code",
      "source": [],
      "metadata": {
        "id": "wEfUQbWvNV0j"
      },
      "execution_count": null,
      "outputs": []
    },
    {
      "cell_type": "code",
      "source": [],
      "metadata": {
        "id": "n6AZP4ozV15G"
      },
      "execution_count": null,
      "outputs": []
    }
  ]
}